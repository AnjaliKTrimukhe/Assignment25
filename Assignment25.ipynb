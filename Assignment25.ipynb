{
 "cells": [
  {
   "cell_type": "raw",
   "id": "eb4e526e",
   "metadata": {},
   "source": [
    "1)What is the difference between enclosing a list comprehension in square brackets and\n",
    "parentheses?\n",
    "Ans:\n",
    "Square brackets are lists while parentheses are tuples.\n",
    "\n",
    "A List Comprehension, just like the plain range function, executes immediately and returns a list.\n",
    "\n",
    "A Generator Expression, just like xrange returns an object that can be iterated over."
   ]
  },
  {
   "cell_type": "raw",
   "id": "7b78a6b4",
   "metadata": {},
   "source": [
    "2)What is the relationship between generators and iterators?\n",
    "Ans:\n",
    "Iterator:\n",
    "1. Uses iter() and next() functions. \t\n",
    "2. Every iterator is not a generator.\t\n",
    "3. Class is used to implement an iterator\n",
    "\n",
    "Generator:\n",
    "1. Uses yield keyword.\n",
    "2. Every generator is an iterator.\n",
    "3. Function is used to implement a generator."
   ]
  },
  {
   "cell_type": "raw",
   "id": "0e8e0768",
   "metadata": {},
   "source": [
    "3)What are the signs that a function is a generator function?\n",
    "Ans:\n",
    "When Python parses the def statement, it decides if the code is defining a generator or a function. If the code contains a yield expression, then it is a generator."
   ]
  },
  {
   "cell_type": "raw",
   "id": "5fe81b48",
   "metadata": {},
   "source": [
    "4) What is the purpose of a yield statement?\n",
    "Ans:\n",
    "Yield is used to return from a function without destroying the states of its local variable and when the function is called, the execution starts from the last yield statement. Any function that contains a yield keyword is termed a generator. "
   ]
  },
  {
   "cell_type": "raw",
   "id": "8e0e3057",
   "metadata": {},
   "source": [
    "5) What is the relationship between map calls and list comprehensions? Make a comparison and\n",
    "contrast between the two.\n",
    "Ans:\n",
    "map may be microscopically faster in some cases (when you're NOT making a lambda for the purpose, but using the same function in map and a listcomp). List comprehensions may be faster in other cases and most (not all) pythonistas consider them more direct and clearer.\n",
    "List comprehension is more concise and easier to read as compared to map. \n",
    "List comprehension are used when a list of results is required as map only returns a map object and does not return any list.\n"
   ]
  }
 ],
 "metadata": {
  "kernelspec": {
   "display_name": "Python 3 (ipykernel)",
   "language": "python",
   "name": "python3"
  },
  "language_info": {
   "codemirror_mode": {
    "name": "ipython",
    "version": 3
   },
   "file_extension": ".py",
   "mimetype": "text/x-python",
   "name": "python",
   "nbconvert_exporter": "python",
   "pygments_lexer": "ipython3",
   "version": "3.9.7"
  }
 },
 "nbformat": 4,
 "nbformat_minor": 5
}
